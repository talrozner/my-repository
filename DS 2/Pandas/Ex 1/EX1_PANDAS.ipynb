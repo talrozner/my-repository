{
 "cells": [
  {
   "cell_type": "code",
   "execution_count": 3,
   "metadata": {},
   "outputs": [],
   "source": [
    "#import\n",
    "import pandas as pd\n",
    "import numpy as np\n",
    "import matplotlib.pyplot as plt\n",
    "\n",
    "%config IPCompleter.greedy=True #autocomplete jupyter"
   ]
  },
  {
   "cell_type": "code",
   "execution_count": 5,
   "metadata": {},
   "outputs": [
    {
     "name": "stdout",
     "output_type": "stream",
     "text": [
      "<class 'pandas.core.frame.DataFrame'>\n",
      "RangeIndex: 48895 entries, 0 to 48894\n",
      "Data columns (total 16 columns):\n",
      "id                                48895 non-null int64\n",
      "name                              48879 non-null object\n",
      "host_id                           48895 non-null int64\n",
      "host_name                         48874 non-null object\n",
      "neighbourhood_group               48895 non-null object\n",
      "neighbourhood                     48895 non-null object\n",
      "latitude                          48895 non-null float64\n",
      "longitude                         48895 non-null float64\n",
      "room_type                         48895 non-null object\n",
      "price                             48895 non-null int64\n",
      "minimum_nights                    48895 non-null int64\n",
      "number_of_reviews                 48895 non-null int64\n",
      "last_review                       38843 non-null object\n",
      "reviews_per_month                 38843 non-null float64\n",
      "calculated_host_listings_count    48895 non-null int64\n",
      "availability_365                  48895 non-null int64\n",
      "dtypes: float64(3), int64(7), object(6)\n",
      "memory usage: 6.0+ MB\n"
     ]
    }
   ],
   "source": [
    "#load the file\n",
    "file_path = r'AB_NYC_2019.csv'\n",
    "data = pd.read_csv(file_path)\n",
    "\n",
    "#data info()\n",
    "data.info()"
   ]
  },
  {
   "cell_type": "code",
   "execution_count": 20,
   "metadata": {},
   "outputs": [],
   "source": [
    "#find the most common neighbourhood\n",
    "mask = data['neighbourhood'].value_counts() > 300\n",
    "sort_neighbourhood = data['neighbourhood'].value_counts()[mask]\n",
    "sort_neighbourhood = sort_neighbourhood.index"
   ]
  },
  {
   "cell_type": "code",
   "execution_count": 63,
   "metadata": {},
   "outputs": [],
   "source": [
    "#calculate average price\n",
    "def is_in_sort_neighbourhood(x):\n",
    "    if x in sort_neighbourhood:\n",
    "        return True\n",
    "    else:\n",
    "        return False\n",
    "    \n",
    "data[\"is in neighbourhood\"] = data['neighbourhood'].apply(is_in_sort_neighbourhood).values\n",
    "\n",
    "mask = data[\"is in neighbourhood\"] == True\n",
    "\n",
    "average_price =data.loc[mask,'price'].mean()"
   ]
  },
  {
   "cell_type": "code",
   "execution_count": 92,
   "metadata": {},
   "outputs": [
    {
     "data": {
      "text/plain": [
       "(27176, 18)"
      ]
     },
     "execution_count": 92,
     "metadata": {},
     "output_type": "execute_result"
    }
   ],
   "source": [
    "#apartments below the average price\n",
    "mask = (data[\"is in neighbourhood\"] == True) & (data['price']<average_price)\n",
    "data[mask].shape"
   ]
  },
  {
   "cell_type": "code",
   "execution_count": 93,
   "metadata": {},
   "outputs": [],
   "source": [
    "#Calculate the distance of flats from the beginning of the axes\n",
    "data['radius'] = np.sqrt(data['latitude']**2 + data['longitude']**2)\n"
   ]
  },
  {
   "cell_type": "code",
   "execution_count": 95,
   "metadata": {},
   "outputs": [],
   "source": [
    "# 10 moset close to axis and apartments below the average price\n",
    "final_data = data[mask].sort_values('radius')[:10]\n"
   ]
  },
  {
   "cell_type": "code",
   "execution_count": 101,
   "metadata": {},
   "outputs": [
    {
     "data": {
      "text/html": [
       "<div>\n",
       "<style scoped>\n",
       "    .dataframe tbody tr th:only-of-type {\n",
       "        vertical-align: middle;\n",
       "    }\n",
       "\n",
       "    .dataframe tbody tr th {\n",
       "        vertical-align: top;\n",
       "    }\n",
       "\n",
       "    .dataframe thead th {\n",
       "        text-align: right;\n",
       "    }\n",
       "</style>\n",
       "<table border=\"1\" class=\"dataframe\">\n",
       "  <thead>\n",
       "    <tr style=\"text-align: right;\">\n",
       "      <th></th>\n",
       "      <th>id</th>\n",
       "      <th>name</th>\n",
       "      <th>host_id</th>\n",
       "      <th>host_name</th>\n",
       "      <th>neighbourhood_group</th>\n",
       "      <th>neighbourhood</th>\n",
       "      <th>latitude</th>\n",
       "      <th>longitude</th>\n",
       "      <th>room_type</th>\n",
       "      <th>price</th>\n",
       "      <th>minimum_nights</th>\n",
       "      <th>number_of_reviews</th>\n",
       "      <th>last_review</th>\n",
       "      <th>reviews_per_month</th>\n",
       "      <th>calculated_host_listings_count</th>\n",
       "      <th>availability_365</th>\n",
       "      <th>is in neighbourhood</th>\n",
       "      <th>radius</th>\n",
       "    </tr>\n",
       "  </thead>\n",
       "  <tbody>\n",
       "    <tr>\n",
       "      <th>37418</th>\n",
       "      <td>29688392</td>\n",
       "      <td>Serenity In Queens</td>\n",
       "      <td>223431967</td>\n",
       "      <td>Stacy</td>\n",
       "      <td>Queens</td>\n",
       "      <td>Flushing</td>\n",
       "      <td>40.72915</td>\n",
       "      <td>-73.79448</td>\n",
       "      <td>Private room</td>\n",
       "      <td>70</td>\n",
       "      <td>2</td>\n",
       "      <td>0</td>\n",
       "      <td>NaN</td>\n",
       "      <td>NaN</td>\n",
       "      <td>1</td>\n",
       "      <td>95</td>\n",
       "      <td>True</td>\n",
       "      <td>84.288130</td>\n",
       "    </tr>\n",
       "    <tr>\n",
       "      <th>47165</th>\n",
       "      <td>35613707</td>\n",
       "      <td>Cozy One BR near Manhattan!- 15min to Time Squ...</td>\n",
       "      <td>267928032</td>\n",
       "      <td>Chhong</td>\n",
       "      <td>Queens</td>\n",
       "      <td>Flushing</td>\n",
       "      <td>40.72899</td>\n",
       "      <td>-73.79578</td>\n",
       "      <td>Entire home/apt</td>\n",
       "      <td>119</td>\n",
       "      <td>1</td>\n",
       "      <td>0</td>\n",
       "      <td>NaN</td>\n",
       "      <td>NaN</td>\n",
       "      <td>1</td>\n",
       "      <td>179</td>\n",
       "      <td>True</td>\n",
       "      <td>84.289191</td>\n",
       "    </tr>\n",
       "    <tr>\n",
       "      <th>29397</th>\n",
       "      <td>22546236</td>\n",
       "      <td>SJU大学</td>\n",
       "      <td>133825714</td>\n",
       "      <td>Peng</td>\n",
       "      <td>Queens</td>\n",
       "      <td>Flushing</td>\n",
       "      <td>40.72465</td>\n",
       "      <td>-73.80162</td>\n",
       "      <td>Shared room</td>\n",
       "      <td>30</td>\n",
       "      <td>1</td>\n",
       "      <td>0</td>\n",
       "      <td>NaN</td>\n",
       "      <td>NaN</td>\n",
       "      <td>1</td>\n",
       "      <td>0</td>\n",
       "      <td>True</td>\n",
       "      <td>84.292207</td>\n",
       "    </tr>\n",
       "    <tr>\n",
       "      <th>13784</th>\n",
       "      <td>10383291</td>\n",
       "      <td>Comfortable, cozy, dorm-like room</td>\n",
       "      <td>53450065</td>\n",
       "      <td>Maria</td>\n",
       "      <td>Queens</td>\n",
       "      <td>Flushing</td>\n",
       "      <td>40.72211</td>\n",
       "      <td>-73.80908</td>\n",
       "      <td>Private room</td>\n",
       "      <td>30</td>\n",
       "      <td>1</td>\n",
       "      <td>0</td>\n",
       "      <td>NaN</td>\n",
       "      <td>NaN</td>\n",
       "      <td>1</td>\n",
       "      <td>0</td>\n",
       "      <td>True</td>\n",
       "      <td>84.297512</td>\n",
       "    </tr>\n",
       "  </tbody>\n",
       "</table>\n",
       "</div>"
      ],
      "text/plain": [
       "             id                                               name    host_id  \\\n",
       "37418  29688392                                 Serenity In Queens  223431967   \n",
       "47165  35613707  Cozy One BR near Manhattan!- 15min to Time Squ...  267928032   \n",
       "29397  22546236                                              SJU大学  133825714   \n",
       "13784  10383291                  Comfortable, cozy, dorm-like room   53450065   \n",
       "\n",
       "      host_name neighbourhood_group neighbourhood  latitude  longitude  \\\n",
       "37418     Stacy              Queens      Flushing  40.72915  -73.79448   \n",
       "47165    Chhong              Queens      Flushing  40.72899  -73.79578   \n",
       "29397      Peng              Queens      Flushing  40.72465  -73.80162   \n",
       "13784     Maria              Queens      Flushing  40.72211  -73.80908   \n",
       "\n",
       "             room_type  price  minimum_nights  number_of_reviews last_review  \\\n",
       "37418     Private room     70               2                  0         NaN   \n",
       "47165  Entire home/apt    119               1                  0         NaN   \n",
       "29397      Shared room     30               1                  0         NaN   \n",
       "13784     Private room     30               1                  0         NaN   \n",
       "\n",
       "       reviews_per_month  calculated_host_listings_count  availability_365  \\\n",
       "37418                NaN                               1                95   \n",
       "47165                NaN                               1               179   \n",
       "29397                NaN                               1                 0   \n",
       "13784                NaN                               1                 0   \n",
       "\n",
       "       is in neighbourhood     radius  \n",
       "37418                 True  84.288130  \n",
       "47165                 True  84.289191  \n",
       "29397                 True  84.292207  \n",
       "13784                 True  84.297512  "
      ]
     },
     "execution_count": 101,
     "metadata": {},
     "output_type": "execute_result"
    }
   ],
   "source": [
    "#Drop the apartments that don’t have review\n",
    "mask = final_data['reviews_per_month'].isnull().values\n",
    "final_data[mask]"
   ]
  },
  {
   "cell_type": "code",
   "execution_count": null,
   "metadata": {},
   "outputs": [],
   "source": []
  }
 ],
 "metadata": {
  "kernelspec": {
   "display_name": "Python 3",
   "language": "python",
   "name": "python3"
  },
  "language_info": {
   "codemirror_mode": {
    "name": "ipython",
    "version": 3
   },
   "file_extension": ".py",
   "mimetype": "text/x-python",
   "name": "python",
   "nbconvert_exporter": "python",
   "pygments_lexer": "ipython3",
   "version": "3.7.1"
  }
 },
 "nbformat": 4,
 "nbformat_minor": 2
}
